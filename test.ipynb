{
 "cells": [
  {
   "cell_type": "code",
   "execution_count": 2,
   "metadata": {},
   "outputs": [],
   "source": [
    "import pandas as pd"
   ]
  },
  {
   "cell_type": "code",
   "execution_count": 47,
   "metadata": {},
   "outputs": [],
   "source": [
    "df = pd.read_csv('dog/dogs-ranking-dataset.csv')"
   ]
  },
  {
   "cell_type": "code",
   "execution_count": 48,
   "metadata": {},
   "outputs": [
    {
     "data": {
      "text/html": [
       "<div>\n",
       "<style scoped>\n",
       "    .dataframe tbody tr th:only-of-type {\n",
       "        vertical-align: middle;\n",
       "    }\n",
       "\n",
       "    .dataframe tbody tr th {\n",
       "        vertical-align: top;\n",
       "    }\n",
       "\n",
       "    .dataframe thead th {\n",
       "        text-align: right;\n",
       "    }\n",
       "</style>\n",
       "<table border=\"1\" class=\"dataframe\">\n",
       "  <thead>\n",
       "    <tr style=\"text-align: right;\">\n",
       "      <th></th>\n",
       "      <th>품종</th>\n",
       "      <th>유형</th>\n",
       "      <th>점수</th>\n",
       "      <th>인기순위</th>\n",
       "      <th>지능</th>\n",
       "      <th>선천적질병</th>\n",
       "      <th>어린이를 위한 점수</th>\n",
       "      <th>크기</th>\n",
       "      <th>평생비용</th>\n",
       "      <th>지능순위</th>\n",
       "      <th>지능%</th>\n",
       "      <th>수명(년)</th>\n",
       "      <th>유전적 질병의 수</th>\n",
       "      <th>유전적 질병</th>\n",
       "      <th>평균구매가격</th>\n",
       "      <th>연간 사료비용</th>\n",
       "      <th>손질빈도</th>\n",
       "      <th>어린이 적합성</th>\n",
       "    </tr>\n",
       "  </thead>\n",
       "  <tbody>\n",
       "    <tr>\n",
       "      <th>0</th>\n",
       "      <td>Border Terrier</td>\n",
       "      <td>terrier</td>\n",
       "      <td>3.61</td>\n",
       "      <td>61</td>\n",
       "      <td>Above average</td>\n",
       "      <td>none</td>\n",
       "      <td>4.99</td>\n",
       "      <td>small</td>\n",
       "      <td>$22,638</td>\n",
       "      <td>30</td>\n",
       "      <td>70%</td>\n",
       "      <td>14.00</td>\n",
       "      <td>0</td>\n",
       "      <td>none</td>\n",
       "      <td>$833</td>\n",
       "      <td>$324</td>\n",
       "      <td>Once a week</td>\n",
       "      <td>1</td>\n",
       "    </tr>\n",
       "    <tr>\n",
       "      <th>1</th>\n",
       "      <td>Cairn Terrier</td>\n",
       "      <td>terrier</td>\n",
       "      <td>3.53</td>\n",
       "      <td>48</td>\n",
       "      <td>Above average</td>\n",
       "      <td>'lion jaw', heart problems</td>\n",
       "      <td>4.91</td>\n",
       "      <td>small</td>\n",
       "      <td>$21,992</td>\n",
       "      <td>35</td>\n",
       "      <td>61%</td>\n",
       "      <td>13.84</td>\n",
       "      <td>2</td>\n",
       "      <td>'lion jaw', heart problems</td>\n",
       "      <td>$435</td>\n",
       "      <td>$324</td>\n",
       "      <td>Once a week</td>\n",
       "      <td>1</td>\n",
       "    </tr>\n",
       "    <tr>\n",
       "      <th>2</th>\n",
       "      <td>Siberian Husky</td>\n",
       "      <td>working</td>\n",
       "      <td>3.22</td>\n",
       "      <td>16</td>\n",
       "      <td>Average</td>\n",
       "      <td>none</td>\n",
       "      <td>4.72</td>\n",
       "      <td>medium</td>\n",
       "      <td>$22,049</td>\n",
       "      <td>45</td>\n",
       "      <td>45%</td>\n",
       "      <td>12.58</td>\n",
       "      <td>0</td>\n",
       "      <td>none</td>\n",
       "      <td>$650</td>\n",
       "      <td>$466</td>\n",
       "      <td>Once in a few weeks</td>\n",
       "      <td>1</td>\n",
       "    </tr>\n",
       "    <tr>\n",
       "      <th>3</th>\n",
       "      <td>Welsh Springer Spaniel</td>\n",
       "      <td>sporting</td>\n",
       "      <td>3.34</td>\n",
       "      <td>81</td>\n",
       "      <td>Above average</td>\n",
       "      <td>hip problems</td>\n",
       "      <td>4.71</td>\n",
       "      <td>medium</td>\n",
       "      <td>$20,224</td>\n",
       "      <td>31</td>\n",
       "      <td>69%</td>\n",
       "      <td>12.49</td>\n",
       "      <td>1</td>\n",
       "      <td>hip problems</td>\n",
       "      <td>$750</td>\n",
       "      <td>$324</td>\n",
       "      <td>Once a week</td>\n",
       "      <td>1</td>\n",
       "    </tr>\n",
       "    <tr>\n",
       "      <th>4</th>\n",
       "      <td>English Cocker Spaniel</td>\n",
       "      <td>sporting</td>\n",
       "      <td>3.33</td>\n",
       "      <td>51</td>\n",
       "      <td>Excellent</td>\n",
       "      <td>none</td>\n",
       "      <td>4.70</td>\n",
       "      <td>medium</td>\n",
       "      <td>$18,993</td>\n",
       "      <td>18</td>\n",
       "      <td>82%</td>\n",
       "      <td>11.66</td>\n",
       "      <td>0</td>\n",
       "      <td>none</td>\n",
       "      <td>$800</td>\n",
       "      <td>$324</td>\n",
       "      <td>Once a week</td>\n",
       "      <td>1</td>\n",
       "    </tr>\n",
       "  </tbody>\n",
       "</table>\n",
       "</div>"
      ],
      "text/plain": [
       "                       품종        유형    점수  인기순위             지능  \\\n",
       "0          Border Terrier   terrier  3.61    61  Above average   \n",
       "1           Cairn Terrier   terrier  3.53    48  Above average   \n",
       "2          Siberian Husky   working  3.22    16        Average   \n",
       "3  Welsh Springer Spaniel  sporting  3.34    81  Above average   \n",
       "4  English Cocker Spaniel  sporting  3.33    51      Excellent   \n",
       "\n",
       "                          선천적질병  어린이를 위한 점수      크기      평생비용  지능순위  지능%  \\\n",
       "0                          none        4.99   small  $22,638     30  70%   \n",
       "1  'lion jaw', heart problems          4.91   small  $21,992     35  61%   \n",
       "2                          none        4.72  medium  $22,049     45  45%   \n",
       "3                  hip problems        4.71  medium  $20,224     31  69%   \n",
       "4                          none        4.70  medium  $18,993     18  82%   \n",
       "\n",
       "   수명(년)  유전적 질병의 수                        유전적 질병 평균구매가격 연간 사료비용  \\\n",
       "0  14.00          0                          none  $833    $324    \n",
       "1  13.84          2  'lion jaw', heart problems    $435    $324    \n",
       "2  12.58          0                          none  $650    $466    \n",
       "3  12.49          1                  hip problems  $750    $324    \n",
       "4  11.66          0                          none  $800    $324    \n",
       "\n",
       "                  손질빈도  어린이 적합성  \n",
       "0          Once a week        1  \n",
       "1          Once a week        1  \n",
       "2  Once in a few weeks        1  \n",
       "3          Once a week        1  \n",
       "4          Once a week        1  "
      ]
     },
     "execution_count": 48,
     "metadata": {},
     "output_type": "execute_result"
    }
   ],
   "source": [
    "df.head()"
   ]
  },
  {
   "cell_type": "code",
   "execution_count": 50,
   "metadata": {},
   "outputs": [
    {
     "data": {
      "text/plain": [
       "Index(['품종', '유형', '점수', '인기순위', '지능', '선천적질병', '어린이를 위한 점수', '크기', '평생비용',\n",
       "       '지능순위', '지능%', '수명(년)', '유전적 질병의 수', '유전적 질병', '평균구매가격', '연간 사료비용',\n",
       "       '손질빈도', '어린이 적합성'],\n",
       "      dtype='object')"
      ]
     },
     "execution_count": 50,
     "metadata": {},
     "output_type": "execute_result"
    }
   ],
   "source": [
    "df.columns"
   ]
  },
  {
   "cell_type": "code",
   "execution_count": null,
   "metadata": {},
   "outputs": [],
   "source": []
  },
  {
   "cell_type": "code",
   "execution_count": 66,
   "metadata": {},
   "outputs": [
    {
     "data": {
      "text/plain": [
       "['Above average', 'Average', 'Excellent', 'Fair', 'Brightest', 'Lowest']"
      ]
     },
     "execution_count": 66,
     "metadata": {},
     "output_type": "execute_result"
    }
   ],
   "source": [
    "list(df['지능'].unique())"
   ]
  },
  {
   "cell_type": "code",
   "execution_count": 65,
   "metadata": {},
   "outputs": [
    {
     "data": {
      "text/plain": [
       "[array(['Above average', 'Average', 'Excellent', 'Fair', 'Brightest',\n",
       "        'Lowest'], dtype=object)]"
      ]
     },
     "execution_count": 65,
     "metadata": {},
     "output_type": "execute_result"
    }
   ],
   "source": [
    "list(my_list)"
   ]
  },
  {
   "cell_type": "code",
   "execution_count": 51,
   "metadata": {},
   "outputs": [
    {
     "data": {
      "text/plain": [
       "['large', 'medium', 'small']"
      ]
     },
     "execution_count": 51,
     "metadata": {},
     "output_type": "execute_result"
    }
   ],
   "source": [
    "sorted(df['크기'].unique())"
   ]
  },
  {
   "cell_type": "code",
   "execution_count": 28,
   "metadata": {},
   "outputs": [],
   "source": [
    "y = df['Breed']"
   ]
  },
  {
   "cell_type": "code",
   "execution_count": 31,
   "metadata": {},
   "outputs": [],
   "source": [
    "X = df.loc[ : , ['size', 'intelligence', 'score for kids'] ]"
   ]
  },
  {
   "cell_type": "code",
   "execution_count": 34,
   "metadata": {},
   "outputs": [
    {
     "data": {
      "text/plain": [
       "0             Border Terrier\n",
       "1              Cairn Terrier\n",
       "2             Siberian Husky\n",
       "3     Welsh Springer Spaniel\n",
       "4     English Cocker Spaniel\n",
       "               ...          \n",
       "82          Alaskan Malamute\n",
       "83                Bloodhound\n",
       "84                 Chow Chow\n",
       "85                     Akita\n",
       "86                   Bulldog\n",
       "Name: Breed, Length: 87, dtype: object"
      ]
     },
     "execution_count": 34,
     "metadata": {},
     "output_type": "execute_result"
    }
   ],
   "source": [
    "y"
   ]
  },
  {
   "cell_type": "code",
   "execution_count": 35,
   "metadata": {},
   "outputs": [],
   "source": [
    "from sklearn.preprocessing import LabelEncoder"
   ]
  },
  {
   "cell_type": "code",
   "execution_count": 37,
   "metadata": {},
   "outputs": [],
   "source": [
    "encoder = LabelEncoder()"
   ]
  },
  {
   "cell_type": "code",
   "execution_count": 42,
   "metadata": {},
   "outputs": [],
   "source": [
    "y = sorted(encoder.fit_transform(y))"
   ]
  },
  {
   "cell_type": "code",
   "execution_count": 46,
   "metadata": {},
   "outputs": [
    {
     "data": {
      "text/html": [
       "<div>\n",
       "<style scoped>\n",
       "    .dataframe tbody tr th:only-of-type {\n",
       "        vertical-align: middle;\n",
       "    }\n",
       "\n",
       "    .dataframe tbody tr th {\n",
       "        vertical-align: top;\n",
       "    }\n",
       "\n",
       "    .dataframe thead th {\n",
       "        text-align: right;\n",
       "    }\n",
       "</style>\n",
       "<table border=\"1\" class=\"dataframe\">\n",
       "  <thead>\n",
       "    <tr style=\"text-align: right;\">\n",
       "      <th></th>\n",
       "      <th>Breed</th>\n",
       "      <th>type</th>\n",
       "      <th>score</th>\n",
       "      <th>popularity ranking</th>\n",
       "      <th>size</th>\n",
       "      <th>intelligence</th>\n",
       "      <th>congential ailments</th>\n",
       "      <th>score for kids</th>\n",
       "      <th>size.1</th>\n",
       "      <th>$LIFETIME COST</th>\n",
       "      <th>INTELLIGENCE RANK</th>\n",
       "      <th>INTELLIGENCE %</th>\n",
       "      <th>LONGEVITY(YEARS)</th>\n",
       "      <th>NUMBER OF GENETIC AILMENTS</th>\n",
       "      <th>GENETIC AILMENTS</th>\n",
       "      <th>PURCHASE PRICE</th>\n",
       "      <th>FOOD COSTS PER YEAR</th>\n",
       "      <th>GROOMING FREQUNCY</th>\n",
       "      <th>SUITABILITY FOR CHILDREN</th>\n",
       "    </tr>\n",
       "  </thead>\n",
       "  <tbody>\n",
       "    <tr>\n",
       "      <th>0</th>\n",
       "      <td>Border Terrier</td>\n",
       "      <td>terrier</td>\n",
       "      <td>3.61</td>\n",
       "      <td>61</td>\n",
       "      <td>1</td>\n",
       "      <td>Above average</td>\n",
       "      <td>none</td>\n",
       "      <td>4.99</td>\n",
       "      <td>small</td>\n",
       "      <td>$22,638</td>\n",
       "      <td>30</td>\n",
       "      <td>70%</td>\n",
       "      <td>14.00</td>\n",
       "      <td>0</td>\n",
       "      <td>none</td>\n",
       "      <td>$833</td>\n",
       "      <td>$324</td>\n",
       "      <td>Once a week</td>\n",
       "      <td>1</td>\n",
       "    </tr>\n",
       "    <tr>\n",
       "      <th>1</th>\n",
       "      <td>Cairn Terrier</td>\n",
       "      <td>terrier</td>\n",
       "      <td>3.53</td>\n",
       "      <td>48</td>\n",
       "      <td>1</td>\n",
       "      <td>Above average</td>\n",
       "      <td>'lion jaw', heart problems</td>\n",
       "      <td>4.91</td>\n",
       "      <td>small</td>\n",
       "      <td>$21,992</td>\n",
       "      <td>35</td>\n",
       "      <td>61%</td>\n",
       "      <td>13.84</td>\n",
       "      <td>2</td>\n",
       "      <td>'lion jaw', heart problems</td>\n",
       "      <td>$435</td>\n",
       "      <td>$324</td>\n",
       "      <td>Once a week</td>\n",
       "      <td>1</td>\n",
       "    </tr>\n",
       "    <tr>\n",
       "      <th>2</th>\n",
       "      <td>Siberian Husky</td>\n",
       "      <td>working</td>\n",
       "      <td>3.22</td>\n",
       "      <td>16</td>\n",
       "      <td>2</td>\n",
       "      <td>Average</td>\n",
       "      <td>none</td>\n",
       "      <td>4.72</td>\n",
       "      <td>medium</td>\n",
       "      <td>$22,049</td>\n",
       "      <td>45</td>\n",
       "      <td>45%</td>\n",
       "      <td>12.58</td>\n",
       "      <td>0</td>\n",
       "      <td>none</td>\n",
       "      <td>$650</td>\n",
       "      <td>$466</td>\n",
       "      <td>Once in a few weeks</td>\n",
       "      <td>1</td>\n",
       "    </tr>\n",
       "    <tr>\n",
       "      <th>3</th>\n",
       "      <td>Welsh Springer Spaniel</td>\n",
       "      <td>sporting</td>\n",
       "      <td>3.34</td>\n",
       "      <td>81</td>\n",
       "      <td>2</td>\n",
       "      <td>Above average</td>\n",
       "      <td>hip problems</td>\n",
       "      <td>4.71</td>\n",
       "      <td>medium</td>\n",
       "      <td>$20,224</td>\n",
       "      <td>31</td>\n",
       "      <td>69%</td>\n",
       "      <td>12.49</td>\n",
       "      <td>1</td>\n",
       "      <td>hip problems</td>\n",
       "      <td>$750</td>\n",
       "      <td>$324</td>\n",
       "      <td>Once a week</td>\n",
       "      <td>1</td>\n",
       "    </tr>\n",
       "    <tr>\n",
       "      <th>4</th>\n",
       "      <td>English Cocker Spaniel</td>\n",
       "      <td>sporting</td>\n",
       "      <td>3.33</td>\n",
       "      <td>51</td>\n",
       "      <td>2</td>\n",
       "      <td>Excellent</td>\n",
       "      <td>none</td>\n",
       "      <td>4.70</td>\n",
       "      <td>medium</td>\n",
       "      <td>$18,993</td>\n",
       "      <td>18</td>\n",
       "      <td>82%</td>\n",
       "      <td>11.66</td>\n",
       "      <td>0</td>\n",
       "      <td>none</td>\n",
       "      <td>$800</td>\n",
       "      <td>$324</td>\n",
       "      <td>Once a week</td>\n",
       "      <td>1</td>\n",
       "    </tr>\n",
       "  </tbody>\n",
       "</table>\n",
       "</div>"
      ],
      "text/plain": [
       "                    Breed      type  score  popularity ranking  size  \\\n",
       "0          Border Terrier   terrier   3.61                  61     1   \n",
       "1           Cairn Terrier   terrier   3.53                  48     1   \n",
       "2          Siberian Husky   working   3.22                  16     2   \n",
       "3  Welsh Springer Spaniel  sporting   3.34                  81     2   \n",
       "4  English Cocker Spaniel  sporting   3.33                  51     2   \n",
       "\n",
       "    intelligence           congential ailments  score for kids  size.1  \\\n",
       "0  Above average                          none            4.99   small   \n",
       "1  Above average  'lion jaw', heart problems              4.91   small   \n",
       "2        Average                          none            4.72  medium   \n",
       "3  Above average                  hip problems            4.71  medium   \n",
       "4      Excellent                          none            4.70  medium   \n",
       "\n",
       "  $LIFETIME COST  INTELLIGENCE RANK INTELLIGENCE %  LONGEVITY(YEARS)  \\\n",
       "0       $22,638                  30            70%             14.00   \n",
       "1       $21,992                  35            61%             13.84   \n",
       "2       $22,049                  45            45%             12.58   \n",
       "3       $20,224                  31            69%             12.49   \n",
       "4       $18,993                  18            82%             11.66   \n",
       "\n",
       "   NUMBER OF GENETIC AILMENTS              GENETIC AILMENTS PURCHASE PRICE  \\\n",
       "0                           0                          none          $833    \n",
       "1                           2  'lion jaw', heart problems            $435    \n",
       "2                           0                          none          $650    \n",
       "3                           1                  hip problems          $750    \n",
       "4                           0                          none          $800    \n",
       "\n",
       "  FOOD COSTS PER YEAR    GROOMING FREQUNCY  SUITABILITY FOR CHILDREN  \n",
       "0               $324           Once a week                         1  \n",
       "1               $324           Once a week                         1  \n",
       "2               $466   Once in a few weeks                         1  \n",
       "3               $324           Once a week                         1  \n",
       "4               $324           Once a week                         1  "
      ]
     },
     "execution_count": 46,
     "metadata": {},
     "output_type": "execute_result"
    }
   ],
   "source": [
    "df.head()"
   ]
  },
  {
   "cell_type": "code",
   "execution_count": null,
   "metadata": {},
   "outputs": [],
   "source": []
  },
  {
   "cell_type": "code",
   "execution_count": 36,
   "metadata": {},
   "outputs": [
    {
     "data": {
      "text/html": [
       "<div>\n",
       "<style scoped>\n",
       "    .dataframe tbody tr th:only-of-type {\n",
       "        vertical-align: middle;\n",
       "    }\n",
       "\n",
       "    .dataframe tbody tr th {\n",
       "        vertical-align: top;\n",
       "    }\n",
       "\n",
       "    .dataframe thead th {\n",
       "        text-align: right;\n",
       "    }\n",
       "</style>\n",
       "<table border=\"1\" class=\"dataframe\">\n",
       "  <thead>\n",
       "    <tr style=\"text-align: right;\">\n",
       "      <th></th>\n",
       "      <th>size</th>\n",
       "      <th>intelligence</th>\n",
       "      <th>score for kids</th>\n",
       "    </tr>\n",
       "  </thead>\n",
       "  <tbody>\n",
       "    <tr>\n",
       "      <th>0</th>\n",
       "      <td>1</td>\n",
       "      <td>Above average</td>\n",
       "      <td>4.99</td>\n",
       "    </tr>\n",
       "    <tr>\n",
       "      <th>1</th>\n",
       "      <td>1</td>\n",
       "      <td>Above average</td>\n",
       "      <td>4.91</td>\n",
       "    </tr>\n",
       "    <tr>\n",
       "      <th>2</th>\n",
       "      <td>2</td>\n",
       "      <td>Average</td>\n",
       "      <td>4.72</td>\n",
       "    </tr>\n",
       "    <tr>\n",
       "      <th>3</th>\n",
       "      <td>2</td>\n",
       "      <td>Above average</td>\n",
       "      <td>4.71</td>\n",
       "    </tr>\n",
       "    <tr>\n",
       "      <th>4</th>\n",
       "      <td>2</td>\n",
       "      <td>Excellent</td>\n",
       "      <td>4.70</td>\n",
       "    </tr>\n",
       "    <tr>\n",
       "      <th>...</th>\n",
       "      <td>...</td>\n",
       "      <td>...</td>\n",
       "      <td>...</td>\n",
       "    </tr>\n",
       "    <tr>\n",
       "      <th>82</th>\n",
       "      <td>3</td>\n",
       "      <td>Average</td>\n",
       "      <td>2.57</td>\n",
       "    </tr>\n",
       "    <tr>\n",
       "      <th>83</th>\n",
       "      <td>3</td>\n",
       "      <td>Lowest</td>\n",
       "      <td>2.54</td>\n",
       "    </tr>\n",
       "    <tr>\n",
       "      <th>84</th>\n",
       "      <td>2</td>\n",
       "      <td>Lowest</td>\n",
       "      <td>2.51</td>\n",
       "    </tr>\n",
       "    <tr>\n",
       "      <th>85</th>\n",
       "      <td>3</td>\n",
       "      <td>Average</td>\n",
       "      <td>2.33</td>\n",
       "    </tr>\n",
       "    <tr>\n",
       "      <th>86</th>\n",
       "      <td>2</td>\n",
       "      <td>Lowest</td>\n",
       "      <td>1.86</td>\n",
       "    </tr>\n",
       "  </tbody>\n",
       "</table>\n",
       "<p>87 rows × 3 columns</p>\n",
       "</div>"
      ],
      "text/plain": [
       "    size   intelligence  score for kids\n",
       "0      1  Above average            4.99\n",
       "1      1  Above average            4.91\n",
       "2      2        Average            4.72\n",
       "3      2  Above average            4.71\n",
       "4      2      Excellent            4.70\n",
       "..   ...            ...             ...\n",
       "82     3        Average            2.57\n",
       "83     3         Lowest            2.54\n",
       "84     2         Lowest            2.51\n",
       "85     3        Average            2.33\n",
       "86     2         Lowest            1.86\n",
       "\n",
       "[87 rows x 3 columns]"
      ]
     },
     "execution_count": 36,
     "metadata": {},
     "output_type": "execute_result"
    }
   ],
   "source": [
    "X"
   ]
  },
  {
   "cell_type": "code",
   "execution_count": 72,
   "metadata": {},
   "outputs": [],
   "source": [
    "df_어린이적합성 =list(df['어린이 적합성'].unique())"
   ]
  },
  {
   "cell_type": "code",
   "execution_count": 77,
   "metadata": {},
   "outputs": [],
   "source": [
    "어린이적합성_list = []"
   ]
  },
  {
   "cell_type": "code",
   "execution_count": 76,
   "metadata": {},
   "outputs": [
    {
     "data": {
      "text/plain": [
       "[1, 2, 3]"
      ]
     },
     "execution_count": 76,
     "metadata": {},
     "output_type": "execute_result"
    }
   ],
   "source": [
    "if df_어린이적합성[0]:\n",
    "    어린이적합성_list = '적합성이 높음'\n",
    "elif df_어린이적합성[1]:\n",
    "    어린이적합성_list = '적합성 중간'\n",
    "elif df_어린이적합성[2]:\n",
    "    어린이적합성_list = '적합성 낮음'"
   ]
  },
  {
   "cell_type": "code",
   "execution_count": null,
   "metadata": {},
   "outputs": [],
   "source": []
  },
  {
   "cell_type": "code",
   "execution_count": null,
   "metadata": {},
   "outputs": [],
   "source": []
  },
  {
   "cell_type": "code",
   "execution_count": null,
   "metadata": {},
   "outputs": [],
   "source": []
  },
  {
   "cell_type": "code",
   "execution_count": null,
   "metadata": {},
   "outputs": [],
   "source": []
  },
  {
   "cell_type": "code",
   "execution_count": 32,
   "metadata": {},
   "outputs": [
    {
     "data": {
      "text/html": [
       "<div>\n",
       "<style scoped>\n",
       "    .dataframe tbody tr th:only-of-type {\n",
       "        vertical-align: middle;\n",
       "    }\n",
       "\n",
       "    .dataframe tbody tr th {\n",
       "        vertical-align: top;\n",
       "    }\n",
       "\n",
       "    .dataframe thead th {\n",
       "        text-align: right;\n",
       "    }\n",
       "</style>\n",
       "<table border=\"1\" class=\"dataframe\">\n",
       "  <thead>\n",
       "    <tr style=\"text-align: right;\">\n",
       "      <th></th>\n",
       "      <th>size</th>\n",
       "      <th>intelligence</th>\n",
       "      <th>score for kids</th>\n",
       "    </tr>\n",
       "  </thead>\n",
       "  <tbody>\n",
       "    <tr>\n",
       "      <th>0</th>\n",
       "      <td>1</td>\n",
       "      <td>Above average</td>\n",
       "      <td>4.99</td>\n",
       "    </tr>\n",
       "    <tr>\n",
       "      <th>1</th>\n",
       "      <td>1</td>\n",
       "      <td>Above average</td>\n",
       "      <td>4.91</td>\n",
       "    </tr>\n",
       "    <tr>\n",
       "      <th>2</th>\n",
       "      <td>2</td>\n",
       "      <td>Average</td>\n",
       "      <td>4.72</td>\n",
       "    </tr>\n",
       "    <tr>\n",
       "      <th>3</th>\n",
       "      <td>2</td>\n",
       "      <td>Above average</td>\n",
       "      <td>4.71</td>\n",
       "    </tr>\n",
       "    <tr>\n",
       "      <th>4</th>\n",
       "      <td>2</td>\n",
       "      <td>Excellent</td>\n",
       "      <td>4.70</td>\n",
       "    </tr>\n",
       "    <tr>\n",
       "      <th>...</th>\n",
       "      <td>...</td>\n",
       "      <td>...</td>\n",
       "      <td>...</td>\n",
       "    </tr>\n",
       "    <tr>\n",
       "      <th>82</th>\n",
       "      <td>3</td>\n",
       "      <td>Average</td>\n",
       "      <td>2.57</td>\n",
       "    </tr>\n",
       "    <tr>\n",
       "      <th>83</th>\n",
       "      <td>3</td>\n",
       "      <td>Lowest</td>\n",
       "      <td>2.54</td>\n",
       "    </tr>\n",
       "    <tr>\n",
       "      <th>84</th>\n",
       "      <td>2</td>\n",
       "      <td>Lowest</td>\n",
       "      <td>2.51</td>\n",
       "    </tr>\n",
       "    <tr>\n",
       "      <th>85</th>\n",
       "      <td>3</td>\n",
       "      <td>Average</td>\n",
       "      <td>2.33</td>\n",
       "    </tr>\n",
       "    <tr>\n",
       "      <th>86</th>\n",
       "      <td>2</td>\n",
       "      <td>Lowest</td>\n",
       "      <td>1.86</td>\n",
       "    </tr>\n",
       "  </tbody>\n",
       "</table>\n",
       "<p>87 rows × 3 columns</p>\n",
       "</div>"
      ],
      "text/plain": [
       "    size   intelligence  score for kids\n",
       "0      1  Above average            4.99\n",
       "1      1  Above average            4.91\n",
       "2      2        Average            4.72\n",
       "3      2  Above average            4.71\n",
       "4      2      Excellent            4.70\n",
       "..   ...            ...             ...\n",
       "82     3        Average            2.57\n",
       "83     3         Lowest            2.54\n",
       "84     2         Lowest            2.51\n",
       "85     3        Average            2.33\n",
       "86     2         Lowest            1.86\n",
       "\n",
       "[87 rows x 3 columns]"
      ]
     },
     "execution_count": 32,
     "metadata": {},
     "output_type": "execute_result"
    }
   ],
   "source": [
    "X"
   ]
  },
  {
   "cell_type": "code",
   "execution_count": 33,
   "metadata": {},
   "outputs": [
    {
     "data": {
      "text/plain": [
       "array(['Above average', 'Average', 'Excellent', 'Fair', 'Brightest',\n",
       "       'Lowest'], dtype=object)"
      ]
     },
     "execution_count": 33,
     "metadata": {},
     "output_type": "execute_result"
    }
   ],
   "source": [
    "X['intelligence'].unique()"
   ]
  },
  {
   "cell_type": "code",
   "execution_count": null,
   "metadata": {},
   "outputs": [],
   "source": []
  }
 ],
 "metadata": {
  "kernelspec": {
   "display_name": "hi",
   "language": "python",
   "name": "python3"
  },
  "language_info": {
   "codemirror_mode": {
    "name": "ipython",
    "version": 3
   },
   "file_extension": ".py",
   "mimetype": "text/x-python",
   "name": "python",
   "nbconvert_exporter": "python",
   "pygments_lexer": "ipython3",
   "version": "3.10.16"
  }
 },
 "nbformat": 4,
 "nbformat_minor": 2
}
