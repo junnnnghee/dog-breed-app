{
 "cells": [
  {
   "cell_type": "code",
   "execution_count": 4,
   "metadata": {},
   "outputs": [
    {
     "name": "stdout",
     "output_type": "stream",
     "text": [
      "        품종  크기 수치화\n",
      "0       푸들     1.0\n",
      "1  골든 리트리버     3.0\n",
      "2     웰시코기     1.5\n",
      "3      허스키     2.5\n"
     ]
    }
   ],
   "source": [
    "# 크기 사전 정의\n",
    "size_mapping = {\"소형\": 1, \"중형\": 2, \"대형\": 3}\n",
    "\n",
    "# 크기를 수치적으로 변환\n",
    "def map_size(size_list):\n",
    "    return sum(size_mapping[size] for size in size_list) / len(size_list)\n",
    "\n",
    "# 데이터 적용\n",
    "size_data = [\n",
    "    (\"푸들\", [\"소형\"]),\n",
    "    (\"골든 리트리버\", [\"대형\"]),\n",
    "    (\"웰시코기\", [\"소형\", \"중형\"]),\n",
    "    (\"허스키\", [\"중형\", \"대형\"])\n",
    "]\n",
    "\n",
    "df_size_numeric = pd.DataFrame({\n",
    "    \"품종\": [s[0] for s in size_data],\n",
    "    \"크기 수치화\": [map_size(s[1]) for s in size_data]\n",
    "})\n",
    "\n",
    "print(df_size_numeric)"
   ]
  },
  {
   "cell_type": "code",
   "execution_count": null,
   "metadata": {},
   "outputs": [],
   "source": []
  },
  {
   "cell_type": "code",
   "execution_count": null,
   "metadata": {},
   "outputs": [],
   "source": []
  }
 ],
 "metadata": {
  "kernelspec": {
   "display_name": "hi",
   "language": "python",
   "name": "python3"
  },
  "language_info": {
   "codemirror_mode": {
    "name": "ipython",
    "version": 3
   },
   "file_extension": ".py",
   "mimetype": "text/x-python",
   "name": "python",
   "nbconvert_exporter": "python",
   "pygments_lexer": "ipython3",
   "version": "3.10.16"
  }
 },
 "nbformat": 4,
 "nbformat_minor": 2
}
